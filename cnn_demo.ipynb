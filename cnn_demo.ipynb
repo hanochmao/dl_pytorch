{
 "cells": [
  {
   "cell_type": "code",
   "execution_count": 1,
   "id": "bf3dd13d",
   "metadata": {},
   "outputs": [],
   "source": [
    "import torch\n",
    "import torch.nn as nn\n",
    "import torch.optim as optim\n",
    "import torchvision\n",
    "import torchvision.transforms as transforms\n",
    "import matplotlib.pyplot as plt"
   ]
  },
  {
   "cell_type": "code",
   "execution_count": 3,
   "id": "8ddadca8",
   "metadata": {},
   "outputs": [],
   "source": [
    "# 定义数据预处理\n",
    "transform = transforms.Compose([\n",
    "    transforms.ToTensor(),\n",
    "    transforms.Normalize((0.5,), (0.5,))\n",
    "])\n",
    "\n",
    "# 加载训练集和测试集\n",
    "train_dataset = torchvision.datasets.MNIST(root='./data', train=True, download=True, transform=transform)\n",
    "test_dataset = torchvision.datasets.MNIST(root='./data', train=False, download=True, transform=transform)\n",
    "\n",
    "# 创建数据加载器\n",
    "train_loader = torch.utils.data.DataLoader(train_dataset, batch_size=64, shuffle=True)\n",
    "test_loader = torch.utils.data.DataLoader(test_dataset, batch_size=64, shuffle=False)"
   ]
  },
  {
   "cell_type": "code",
   "execution_count": 4,
   "id": "af71f97a",
   "metadata": {},
   "outputs": [],
   "source": [
    "# 定义 CNN 模型\n",
    "class CNN(nn.Module):\n",
    "    def __init__(self):\n",
    "        super(CNN, self).__init__()\n",
    "        self.conv1 = nn.Conv2d(1, 32, 3, 1, 1)\n",
    "        self.conv2 = nn.Conv2d(32, 64, 3, 1, 1)\n",
    "        self.pool = nn.MaxPool2d(2, 2)\n",
    "        self.fc1 = nn.Linear(64 * 7 * 7, 128)\n",
    "        self.fc2 = nn.Linear(128, 10)\n",
    "        self.relu = nn.ReLU()\n",
    "\n",
    "    def forward(self, x):\n",
    "        x = self.pool(self.relu(self.conv1(x)))\n",
    "        x = self.pool(self.relu(self.conv2(x)))\n",
    "        x = x.view(-1, 64 * 7 * 7)\n",
    "        x = self.relu(self.fc1(x))\n",
    "        x = self.fc2(x)\n",
    "        return x"
   ]
  },
  {
   "cell_type": "code",
   "execution_count": 5,
   "id": "7d118cd7",
   "metadata": {},
   "outputs": [
    {
     "name": "stdout",
     "output_type": "stream",
     "text": [
      "Epoch [1/5], Step [100/938], Loss: 0.3334\n",
      "Epoch [1/5], Step [200/938], Loss: 0.2269\n",
      "Epoch [1/5], Step [300/938], Loss: 0.1368\n",
      "Epoch [1/5], Step [400/938], Loss: 0.1760\n",
      "Epoch [1/5], Step [500/938], Loss: 0.1157\n",
      "Epoch [1/5], Step [600/938], Loss: 0.0925\n",
      "Epoch [1/5], Step [700/938], Loss: 0.0858\n",
      "Epoch [1/5], Step [800/938], Loss: 0.1243\n",
      "Epoch [1/5], Step [900/938], Loss: 0.0099\n",
      "Epoch [1/5], Average Loss: 0.1592\n",
      "Epoch [2/5], Step [100/938], Loss: 0.0794\n",
      "Epoch [2/5], Step [200/938], Loss: 0.0074\n",
      "Epoch [2/5], Step [300/938], Loss: 0.0201\n",
      "Epoch [2/5], Step [400/938], Loss: 0.0153\n",
      "Epoch [2/5], Step [500/938], Loss: 0.0263\n",
      "Epoch [2/5], Step [600/938], Loss: 0.1508\n",
      "Epoch [2/5], Step [700/938], Loss: 0.0275\n",
      "Epoch [2/5], Step [800/938], Loss: 0.0318\n",
      "Epoch [2/5], Step [900/938], Loss: 0.0023\n",
      "Epoch [2/5], Average Loss: 0.0451\n",
      "Epoch [3/5], Step [100/938], Loss: 0.0069\n",
      "Epoch [3/5], Step [200/938], Loss: 0.0068\n",
      "Epoch [3/5], Step [300/938], Loss: 0.0646\n",
      "Epoch [3/5], Step [400/938], Loss: 0.0825\n",
      "Epoch [3/5], Step [500/938], Loss: 0.0464\n",
      "Epoch [3/5], Step [600/938], Loss: 0.1046\n",
      "Epoch [3/5], Step [700/938], Loss: 0.0899\n",
      "Epoch [3/5], Step [800/938], Loss: 0.0117\n",
      "Epoch [3/5], Step [900/938], Loss: 0.0234\n",
      "Epoch [3/5], Average Loss: 0.0308\n",
      "Epoch [4/5], Step [100/938], Loss: 0.0112\n",
      "Epoch [4/5], Step [200/938], Loss: 0.0058\n",
      "Epoch [4/5], Step [300/938], Loss: 0.0009\n",
      "Epoch [4/5], Step [400/938], Loss: 0.0251\n",
      "Epoch [4/5], Step [500/938], Loss: 0.0105\n",
      "Epoch [4/5], Step [600/938], Loss: 0.0505\n",
      "Epoch [4/5], Step [700/938], Loss: 0.0011\n",
      "Epoch [4/5], Step [800/938], Loss: 0.0008\n",
      "Epoch [4/5], Step [900/938], Loss: 0.0036\n",
      "Epoch [4/5], Average Loss: 0.0222\n",
      "Epoch [5/5], Step [100/938], Loss: 0.0121\n",
      "Epoch [5/5], Step [200/938], Loss: 0.0133\n",
      "Epoch [5/5], Step [300/938], Loss: 0.0048\n",
      "Epoch [5/5], Step [400/938], Loss: 0.0044\n",
      "Epoch [5/5], Step [500/938], Loss: 0.0043\n",
      "Epoch [5/5], Step [600/938], Loss: 0.0013\n",
      "Epoch [5/5], Step [700/938], Loss: 0.0110\n",
      "Epoch [5/5], Step [800/938], Loss: 0.0038\n",
      "Epoch [5/5], Step [900/938], Loss: 0.0038\n",
      "Epoch [5/5], Average Loss: 0.0162\n"
     ]
    }
   ],
   "source": [
    "# 初始化模型\n",
    "model = CNN()\n",
    "\n",
    "# 定义损失函数和优化器\n",
    "criterion = nn.CrossEntropyLoss()\n",
    "optimizer = optim.Adam(model.parameters(), lr=0.001)\n",
    "\n",
    "# 训练模型\n",
    "num_epochs = 5\n",
    "for epoch in range(num_epochs):\n",
    "    model.train()\n",
    "    running_loss = 0.0\n",
    "    for i, (inputs, labels) in enumerate(train_loader):\n",
    "        optimizer.zero_grad()\n",
    "        outputs = model(inputs)\n",
    "        loss = criterion(outputs, labels)\n",
    "        loss.backward()\n",
    "        optimizer.step()\n",
    "        running_loss += loss.item()\n",
    "        if (i + 1) % 100 == 0:\n",
    "            print(f'Epoch [{epoch+1}/{num_epochs}], Step [{i+1}/{len(train_loader)}], Loss: {loss.item():.4f}')\n",
    "    print(f'Epoch [{epoch+1}/{num_epochs}], Average Loss: {running_loss/len(train_loader):.4f}')"
   ]
  },
  {
   "cell_type": "code",
   "execution_count": 6,
   "id": "3ad75d12",
   "metadata": {},
   "outputs": [
    {
     "name": "stdout",
     "output_type": "stream",
     "text": [
      "Test Accuracy: 99.20%\n"
     ]
    }
   ],
   "source": [
    "# 测试模型\n",
    "model.eval()\n",
    "correct = 0\n",
    "total = 0\n",
    "with torch.no_grad():\n",
    "    for inputs, labels in test_loader:\n",
    "        outputs = model(inputs)\n",
    "        _, predicted = torch.max(outputs.data, 1)\n",
    "        total += labels.size(0)\n",
    "        correct += (predicted == labels).sum().item()\n",
    "\n",
    "print(f'Test Accuracy: {100 * correct / total:.2f}%')"
   ]
  },
  {
   "cell_type": "code",
   "execution_count": null,
   "id": "991a8b0e",
   "metadata": {},
   "outputs": [],
   "source": []
  }
 ],
 "metadata": {
  "kernelspec": {
   "display_name": "Python 3 (ipykernel)",
   "language": "python",
   "name": "python3"
  },
  "language_info": {
   "codemirror_mode": {
    "name": "ipython",
    "version": 3
   },
   "file_extension": ".py",
   "mimetype": "text/x-python",
   "name": "python",
   "nbconvert_exporter": "python",
   "pygments_lexer": "ipython3",
   "version": "3.12.9"
  },
  "toc": {
   "base_numbering": 1,
   "nav_menu": {},
   "number_sections": true,
   "sideBar": true,
   "skip_h1_title": false,
   "title_cell": "Table of Contents",
   "title_sidebar": "Contents",
   "toc_cell": false,
   "toc_position": {},
   "toc_section_display": true,
   "toc_window_display": false
  }
 },
 "nbformat": 4,
 "nbformat_minor": 5
}
