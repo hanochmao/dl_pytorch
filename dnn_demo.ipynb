{
 "cells": [
  {
   "cell_type": "code",
   "execution_count": 33,
   "id": "525cf702",
   "metadata": {},
   "outputs": [],
   "source": [
    "import torch\n",
    "import torch.nn as nn\n",
    "import torch.optim as optim\n",
    "from torch.utils.data import DataLoader, TensorDataset"
   ]
  },
  {
   "cell_type": "code",
   "execution_count": 34,
   "id": "01b99abd",
   "metadata": {},
   "outputs": [],
   "source": [
    "# 1. 生成一些简单的数据\n",
    "# 假设我们有一个二分类问题，输入特征维度为10\n",
    "torch.manual_seed(42)  # 设置随机种子以保证可重复性\n",
    "X = torch.randn(1000, 10)  # 1000个样本，每个样本有10个特征\n",
    "y = (X[:, 0] * X[:, 1] + X[:, 2] - X[:, 3] > 0).float()  # 复杂的二分类标签"
   ]
  },
  {
   "cell_type": "code",
   "execution_count": 46,
   "id": "c8b7e805",
   "metadata": {},
   "outputs": [
    {
     "name": "stdout",
     "output_type": "stream",
     "text": [
      "X shape: torch.Size([1000, 10])\n",
      "y shape: torch.Size([1000])\n"
     ]
    }
   ],
   "source": [
    "print('X shape:', X.shape)\n",
    "print('y shape:', y.shape)"
   ]
  },
  {
   "cell_type": "code",
   "execution_count": 47,
   "id": "445b77e7",
   "metadata": {},
   "outputs": [],
   "source": [
    "# 2. 将数据封装成DataLoader\n",
    "dataset = TensorDataset(X, y)\n",
    "dataloader = DataLoader(dataset, batch_size=32, shuffle=True)"
   ]
  },
  {
   "cell_type": "code",
   "execution_count": 48,
   "id": "35966d79",
   "metadata": {},
   "outputs": [],
   "source": [
    "# 3. 定义DNN模型\n",
    "class DNN(nn.Module):\n",
    "    def __init__(self):\n",
    "        super(DNN, self).__init__()\n",
    "        self.fc1 = nn.Linear(10, 64)  # 输入层到第一个隐藏层，10个输入特征，64个隐藏单元\n",
    "        self.fc2 = nn.Linear(64, 32)  # 第一个隐藏层到第二个隐藏层，64个隐藏单元，32个隐藏单元\n",
    "        self.fc3 = nn.Linear(32, 16)  # 第二个隐藏层到第三个隐藏层，32个隐藏单元，16个隐藏单元\n",
    "        self.fc4 = nn.Linear(16, 1)   # 第三个隐藏层到输出层，16个隐藏单元，1个输出单元\n",
    "        self.sigmoid = nn.Sigmoid()   # 输出层的激活函数\n",
    "\n",
    "    def forward(self, x):\n",
    "        x = torch.relu(self.fc1(x))  # 第一层全连接 + ReLU激活\n",
    "        x = torch.relu(self.fc2(x))  # 第二层全连接 + ReLU激活\n",
    "        x = torch.relu(self.fc3(x))  # 第三层全连接 + ReLU激活\n",
    "        x = self.sigmoid(self.fc4(x))  # 输出层全连接 + Sigmoid激活\n",
    "        return x"
   ]
  },
  {
   "cell_type": "code",
   "execution_count": 37,
   "id": "c27183ca",
   "metadata": {},
   "outputs": [],
   "source": [
    "# 4. 初始化模型、损失函数和优化器\n",
    "model = DNN()\n",
    "criterion = nn.BCELoss()  # 二分类交叉熵损失\n",
    "optimizer = optim.Adam(model.parameters(), lr=0.001)  # Adam优化器"
   ]
  },
  {
   "cell_type": "code",
   "execution_count": 38,
   "id": "f73637ca",
   "metadata": {},
   "outputs": [
    {
     "name": "stdout",
     "output_type": "stream",
     "text": [
      "Epoch [1/20], Loss: 0.6767\n",
      "Epoch [2/20], Loss: 0.5479\n",
      "Epoch [3/20], Loss: 0.2509\n",
      "Epoch [4/20], Loss: 0.3119\n",
      "Epoch [5/20], Loss: 0.3064\n",
      "Epoch [6/20], Loss: 0.2931\n",
      "Epoch [7/20], Loss: 0.1275\n",
      "Epoch [8/20], Loss: 0.0471\n",
      "Epoch [9/20], Loss: 0.1795\n",
      "Epoch [10/20], Loss: 0.2225\n",
      "Epoch [11/20], Loss: 0.0774\n",
      "Epoch [12/20], Loss: 0.2450\n",
      "Epoch [13/20], Loss: 0.0966\n",
      "Epoch [14/20], Loss: 0.0024\n",
      "Epoch [15/20], Loss: 0.0081\n",
      "Epoch [16/20], Loss: 0.3219\n",
      "Epoch [17/20], Loss: 0.0208\n",
      "Epoch [18/20], Loss: 0.0651\n",
      "Epoch [19/20], Loss: 0.0207\n",
      "Epoch [20/20], Loss: 0.0014\n"
     ]
    }
   ],
   "source": [
    "# 5. 训练模型\n",
    "num_epochs = 20\n",
    "for epoch in range(num_epochs):\n",
    "    for batch_X, batch_y in dataloader:\n",
    "        # 前向传播\n",
    "        outputs = model(batch_X)\n",
    "        loss = criterion(outputs.squeeze(), batch_y)\n",
    "\n",
    "        # 反向传播和优化\n",
    "        optimizer.zero_grad()  # 清空梯度\n",
    "        loss.backward()  # 计算梯度\n",
    "        optimizer.step()  # 更新参数\n",
    "\n",
    "    print(f'Epoch [{epoch+1}/{num_epochs}], Loss: {loss.item():.4f}')"
   ]
  },
  {
   "cell_type": "code",
   "execution_count": 39,
   "id": "9f860c6d",
   "metadata": {},
   "outputs": [
    {
     "name": "stdout",
     "output_type": "stream",
     "text": [
      "Predictions: tensor([[9.9870e-01],\n",
      "        [1.0498e-03],\n",
      "        [2.6688e-03],\n",
      "        [9.8690e-05],\n",
      "        [5.5142e-07]])\n"
     ]
    }
   ],
   "source": [
    "# 6. 测试模型\n",
    "with torch.no_grad():\n",
    "    test_X = torch.randn(5, 10)  # 生成5个测试样本\n",
    "    predictions = model(test_X)\n",
    "    print(\"Predictions:\", predictions)"
   ]
  },
  {
   "cell_type": "code",
   "execution_count": null,
   "id": "a72b4b8f",
   "metadata": {},
   "outputs": [],
   "source": []
  },
  {
   "cell_type": "code",
   "execution_count": null,
   "id": "456f56bc",
   "metadata": {},
   "outputs": [],
   "source": []
  }
 ],
 "metadata": {
  "kernelspec": {
   "display_name": "Python 3 (ipykernel)",
   "language": "python",
   "name": "python3"
  },
  "language_info": {
   "codemirror_mode": {
    "name": "ipython",
    "version": 3
   },
   "file_extension": ".py",
   "mimetype": "text/x-python",
   "name": "python",
   "nbconvert_exporter": "python",
   "pygments_lexer": "ipython3",
   "version": "3.12.9"
  },
  "toc": {
   "base_numbering": 1,
   "nav_menu": {},
   "number_sections": true,
   "sideBar": true,
   "skip_h1_title": false,
   "title_cell": "Table of Contents",
   "title_sidebar": "Contents",
   "toc_cell": false,
   "toc_position": {},
   "toc_section_display": true,
   "toc_window_display": true
  }
 },
 "nbformat": 4,
 "nbformat_minor": 5
}
