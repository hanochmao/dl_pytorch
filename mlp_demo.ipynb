{
 "cells": [
  {
   "cell_type": "code",
   "execution_count": 2,
   "id": "0878cf30",
   "metadata": {},
   "outputs": [],
   "source": [
    "import torch\n",
    "import torch.nn as nn\n",
    "import torch.optim as optim\n",
    "from torch.utils.data import DataLoader, TensorDataset"
   ]
  },
  {
   "cell_type": "code",
   "execution_count": 3,
   "id": "c7befdbc",
   "metadata": {},
   "outputs": [],
   "source": [
    "# 1. 生成一些简单的数据\n",
    "# 假设我们有一个二分类问题，输入特征维度为2\n",
    "torch.manual_seed(42)  # 设置随机种子以保证可重复性\n",
    "X = torch.randn(100, 2)  # 100个样本，每个样本有2个特征\n",
    "y = (X[:, 0] * X[:, 1] > 0).float()  # 简单的二分类标签"
   ]
  },
  {
   "cell_type": "code",
   "execution_count": 5,
   "id": "1adf8622",
   "metadata": {},
   "outputs": [
    {
     "data": {
      "text/plain": [
       "torch.Size([100, 2])"
      ]
     },
     "execution_count": 5,
     "metadata": {},
     "output_type": "execute_result"
    }
   ],
   "source": [
    "X.shape"
   ]
  },
  {
   "cell_type": "code",
   "execution_count": 6,
   "id": "6970daa5",
   "metadata": {},
   "outputs": [
    {
     "data": {
      "text/plain": [
       "torch.Size([100])"
      ]
     },
     "execution_count": 6,
     "metadata": {},
     "output_type": "execute_result"
    }
   ],
   "source": [
    "y.shape"
   ]
  },
  {
   "cell_type": "code",
   "execution_count": null,
   "id": "17b08a72",
   "metadata": {},
   "outputs": [],
   "source": [
    "# 2. 将数据封装成DataLoader\n",
    "dataset = TensorDataset(X, y)\n",
    "dataloader = DataLoader(dataset, batch_size=10, shuffle=True)"
   ]
  },
  {
   "cell_type": "code",
   "execution_count": null,
   "id": "fe1f93b6",
   "metadata": {},
   "outputs": [],
   "source": [
    "# 3. 定义MLP模型\n",
    "class MLP(nn.Module):\n",
    "    def __init__(self):\n",
    "        super(MLP, self).__init__()\n",
    "        self.fc1 = nn.Linear(2, 10)  # 输入层到隐藏层，2个输入特征，10个隐藏单元\n",
    "        self.fc2 = nn.Linear(10, 1)  # 隐藏层到输出层，10个隐藏单元，1个输出单元\n",
    "        self.sigmoid = nn.Sigmoid()  # 输出层的激活函数\n",
    "\n",
    "    def forward(self, x):\n",
    "        x = torch.relu(self.fc1(x))  # 第一层全连接 + ReLU激活\n",
    "        x = self.sigmoid(self.fc2(x))  # 第二层全连接 + Sigmoid激活\n",
    "        return x"
   ]
  },
  {
   "cell_type": "code",
   "execution_count": null,
   "id": "c373a65b",
   "metadata": {},
   "outputs": [],
   "source": [
    "# 4. 初始化模型、损失函数和优化器\n",
    "model = MLP()\n",
    "criterion = nn.BCELoss()  # 二分类交叉熵损失\n",
    "optimizer = optim.SGD(model.parameters(), lr=0.1)  # 随机梯度下降优化器"
   ]
  },
  {
   "cell_type": "code",
   "execution_count": null,
   "id": "b0cff5a9",
   "metadata": {},
   "outputs": [],
   "source": [
    "# 5. 训练模型\n",
    "num_epochs = 20\n",
    "for epoch in range(num_epochs):\n",
    "    for batch_X, batch_y in dataloader:\n",
    "        # 前向传播\n",
    "        outputs = model(batch_X)\n",
    "        loss = criterion(outputs.squeeze(), batch_y)\n",
    "\n",
    "        # 反向传播和优化\n",
    "        optimizer.zero_grad()  # 清空梯度\n",
    "        loss.backward()  # 计算梯度\n",
    "        optimizer.step()  # 更新参数\n",
    "\n",
    "    print(f'Epoch [{epoch+1}/{num_epochs}], Loss: {loss.item():.4f}')"
   ]
  },
  {
   "cell_type": "code",
   "execution_count": 1,
   "id": "85652caa",
   "metadata": {},
   "outputs": [
    {
     "name": "stdout",
     "output_type": "stream",
     "text": [
      "Epoch [1/20], Loss: 0.6633\n",
      "Epoch [2/20], Loss: 0.6985\n",
      "Epoch [3/20], Loss: 0.5658\n",
      "Epoch [4/20], Loss: 0.5514\n",
      "Epoch [5/20], Loss: 0.6018\n",
      "Epoch [6/20], Loss: 0.5561\n",
      "Epoch [7/20], Loss: 0.6529\n",
      "Epoch [8/20], Loss: 0.6811\n",
      "Epoch [9/20], Loss: 0.5364\n",
      "Epoch [10/20], Loss: 0.4739\n",
      "Epoch [11/20], Loss: 0.4043\n",
      "Epoch [12/20], Loss: 0.4055\n",
      "Epoch [13/20], Loss: 0.6038\n",
      "Epoch [14/20], Loss: 0.5150\n",
      "Epoch [15/20], Loss: 0.3177\n",
      "Epoch [16/20], Loss: 0.3317\n",
      "Epoch [17/20], Loss: 0.4286\n",
      "Epoch [18/20], Loss: 0.2613\n",
      "Epoch [19/20], Loss: 0.2930\n",
      "Epoch [20/20], Loss: 0.4403\n",
      "Predictions: tensor([[0.7296],\n",
      "        [0.6889],\n",
      "        [0.4649],\n",
      "        [0.2305]])\n"
     ]
    }
   ],
   "source": [
    "# 6. 测试模型\n",
    "with torch.no_grad():\n",
    "    test_X = torch.tensor([[0.5, 0.5], [-0.5, -0.5], [0.5, -0.5], [-0.5, 0.5]])\n",
    "    predictions = model(test_X)\n",
    "    print(\"Predictions:\", predictions)"
   ]
  },
  {
   "cell_type": "code",
   "execution_count": null,
   "id": "dbd6855c",
   "metadata": {},
   "outputs": [],
   "source": []
  }
 ],
 "metadata": {
  "kernelspec": {
   "display_name": "Python 3 (ipykernel)",
   "language": "python",
   "name": "python3"
  },
  "language_info": {
   "codemirror_mode": {
    "name": "ipython",
    "version": 3
   },
   "file_extension": ".py",
   "mimetype": "text/x-python",
   "name": "python",
   "nbconvert_exporter": "python",
   "pygments_lexer": "ipython3",
   "version": "3.12.9"
  },
  "toc": {
   "base_numbering": 1,
   "nav_menu": {},
   "number_sections": true,
   "sideBar": true,
   "skip_h1_title": false,
   "title_cell": "Table of Contents",
   "title_sidebar": "Contents",
   "toc_cell": false,
   "toc_position": {},
   "toc_section_display": true,
   "toc_window_display": false
  }
 },
 "nbformat": 4,
 "nbformat_minor": 5
}
